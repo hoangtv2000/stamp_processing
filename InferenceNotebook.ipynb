{
 "cells": [
  {
   "cell_type": "markdown",
   "metadata": {},
   "source": [
    "## Remove red stamp in image"
   ]
  },
  {
   "cell_type": "code",
<<<<<<< HEAD
   "execution_count": 3,
=======
   "execution_count": null,
>>>>>>> 5a1f1c164dcabcd1a47c2c0650436d023df889e5
   "metadata": {},
   "outputs": [],
   "source": [
    "def apply_brightness_contrast(input_img, brightness = 255, contrast = 125):\n",
    "    def map(x, in_min, in_max, out_min, out_max):\n",
    "        return int((x-in_min) * (out_max-out_min) / (in_max-in_min) + out_min)\n",
    "\n",
    "    brightness = map(brightness, 0, 510, -255, 255)\n",
    "    contrast = map(contrast, 0, 254, -127, 127)\n",
    "    if brightness != 0:\n",
    "        if brightness > 0:\n",
    "            shadow = brightness\n",
    "            highlight = 255\n",
    "        else:\n",
    "            shadow = 0\n",
    "            highlight = 255 + brightness\n",
    "        alpha_b = (highlight - shadow)/255\n",
    "        gamma_b = shadow\n",
    "        buf = cv2.addWeighted(input_img, alpha_b, input_img, 0, gamma_b)\n",
    "    else:\n",
    "        buf = input_img.copy()\n",
    "    if contrast != 0:\n",
    "        f = float(131 * (contrast + 127)) / (127 * (131 - contrast))\n",
    "        alpha_c = f\n",
    "        gamma_c = 127*(1-f)\n",
    "        buf = cv2.addWeighted(buf, alpha_c, buf, 0, gamma_c)\n",
    "    return buf\n",
    "\n",
    "\n",
    "def qualify_bounding_boxes(bboxes):\n",
    "    result_bboxes = list()\n",
    "    for bbox in bboxes:\n",
    "        if (bbox[0]* bbox[1] < 250):\n",
    "            continue\n",
    "        result_bboxes.append(bbox)\n",
    "    return result_bboxes\n"
   ]
  },
  {
   "cell_type": "code",
<<<<<<< HEAD
   "execution_count": 65,
=======
   "execution_count": null,
>>>>>>> 5a1f1c164dcabcd1a47c2c0650436d023df889e5
   "metadata": {},
   "outputs": [],
   "source": [
    "import cv2\n",
    "import numpy as np\n",
    "from PIL import ImageEnhance, Image\n",
    "\n",
<<<<<<< HEAD
    "\n",
=======
>>>>>>> 5a1f1c164dcabcd1a47c2c0650436d023df889e5
    "def imshow(img, figsize=(25, 25), **kwargs):\n",
    "    import matplotlib.pyplot as plt\n",
    "    fig, ax = plt.subplots(1, 1, figsize=figsize)\n",
    "    ax.axis('off')\n",
    "    ax.imshow(img, **kwargs)\n",
    "\n",
<<<<<<< HEAD
    "\n",
    "def is_rec_in_rec(recA, recB):\n",
    "    return recA[0] < recB[0] < recB[2] < recA[2] and recA[1] < recB[1] < recB[3] < recA[3]\n",
    "\n",
    "def check_rec_in_rec(all_rects):\n",
    "    boolean_list = list()\n",
    "    for rect in all_rects:\n",
    "       boolean_list.append(True if True in [is_rec_in_rec(rect, that_rect) for that_rect in all_rects] else False)\n",
    "    return boolean_list\n",
    "\n",
    "\n",
    "\n",
    "def remove_redstamp(img_path):\n",
    "\n",
    "    def is_rec_in_rec(recA, recB):\n",
    "        return recA[0] < recB[0] < recB[2]-recB[0] < recA[2]-recA[0] and recA[1] < recB[1] < recB[3]-recB[1] < recA[3]-recA[1]\n",
    "\n",
    "    def check_rec_in_rec(this_rect, all_rects):\n",
    "        return True if True in [is_rec_in_rec(this_rect, that_rect) for that_rect in all_rects] else False\n",
    "\n",
    "        \n",
=======
    "def remove_redstamp(img_path):\n",
>>>>>>> 5a1f1c164dcabcd1a47c2c0650436d023df889e5
    "    img = cv2.imread(img_path)\n",
    "    copied_image = img.copy()\n",
    "\n",
    "    img = apply_brightness_contrast(img, brightness = 255, contrast = 145)\n",
    "    img_hsv = cv2.cvtColor(img, cv2.COLOR_BGR2HSV)\n",
    "\n",
    "    lower_red_mask_1 = np.array([0,25,0], np.uint8)\n",
<<<<<<< HEAD
    "    upper_red_mask_1 = np.array([10,255,255], np.uint8)\n",
=======
    "    upper_red_mask_1 = np.array([21,255,255], np.uint8)\n",
>>>>>>> 5a1f1c164dcabcd1a47c2c0650436d023df889e5
    "    mask1 = cv2.inRange(img_hsv, lower_red_mask_1, upper_red_mask_1)\n",
    "\n",
    "    output_mask1 = cv2.bitwise_and(copied_image, copied_image, mask=mask1)\n",
    "\n",
    "    lower_red_mask_2 = np.array([160,25,0])\n",
<<<<<<< HEAD
    "    upper_red_mask_2 = np.array([180,255,255])\n",
=======
    "    upper_red_mask_2 = np.array([200,255,255])\n",
>>>>>>> 5a1f1c164dcabcd1a47c2c0650436d023df889e5
    "    mask2 = cv2.inRange(img_hsv, lower_red_mask_2, upper_red_mask_2)\n",
    "\n",
    "    output_mask2 = cv2.bitwise_and(copied_image, copied_image, mask=mask2)\n",
    "\n",
    "    output_mask = cv2.add(output_mask1, output_mask2) \n",
    "    result_image = copied_image - output_mask\n",
    "\n",
    "    _, thresh = cv2.threshold(result_image, 5, 255, cv2.THRESH_BINARY_INV)\n",
<<<<<<< HEAD
    "    opening_thresh = cv2.morphologyEx(thresh, cv2.MORPH_CLOSE, cv2.getStructuringElement(cv2.MORPH_RECT,(11, 11)))\n",
=======
    "    opening_thresh = cv2.morphologyEx(thresh, cv2.MORPH_OPEN, cv2.getStructuringElement(cv2.MORPH_RECT,(3, 3)))\n",
>>>>>>> 5a1f1c164dcabcd1a47c2c0650436d023df889e5
    "    opening_thresh_ = cv2.cvtColor(opening_thresh, cv2.COLOR_BGR2GRAY)\n",
    "\n",
    "    contours = cv2.findContours(opening_thresh_, cv2.RETR_EXTERNAL, cv2.CHAIN_APPROX_SIMPLE)\n",
    "    contours = contours[0] if len(contours) == 2 else contours[1]\n",
    "\n",
    "    result_bboxes = list()\n",
<<<<<<< HEAD
    "    for cntr in contours:\n",
    "        x, y, w, h = cv2.boundingRect(cntr)\n",
    "        if (w >= 224 or h >= 224) and not check_rec_in_rec([x, y, w, h], result_bboxes):\n",
    "            result_bboxes.append([x, y, w, h])\n",
    "\n",
    "    return result_bboxes"
=======
    "    \n",
    "    for cntr in contours:\n",
    "        x, y, w, h = cv2.boundingRect(cntr)\n",
    "\n",
    "        if (w*h >= 300):\n",
    "             cv2.rectangle(img,(x,y),(x+w,y+h),(0,255,0),2)\n",
    "\n",
    "    return cv2.cvtColor(img, cv2.COLOR_BGR2RGB)"
>>>>>>> 5a1f1c164dcabcd1a47c2c0650436d023df889e5
   ]
  },
  {
   "cell_type": "code",
<<<<<<< HEAD
   "execution_count": 68,
   "metadata": {},
   "outputs": [
    {
     "data": {
      "text/plain": [
       "[[298, 479, 289, 294],\n",
       " [628, 261, 395, 167],\n",
       " [0, 247, 144, 285],\n",
       " [315, 0, 416, 140]]"
      ]
     },
     "execution_count": 68,
     "metadata": {},
     "output_type": "execute_result"
    }
   ],
   "source": [
    "import glob\n",
    "\n",
    "\n",
    "remove_redstamp(\"C:/Users/ASUS/PROJECT001/data/test-repo-master/sec/sec7.jpg\")\n",
    "\n"
=======
   "execution_count": null,
   "metadata": {},
   "outputs": [],
   "source": [
    "res = remove_redstamp(img_path = \"data/test-repo-master/sec/sec13.jpg\")\n",
    "imshow(res)"
>>>>>>> 5a1f1c164dcabcd1a47c2c0650436d023df889e5
   ]
  },
  {
   "cell_type": "markdown",
   "metadata": {},
   "source": [
    "## By Deep learning method"
   ]
  },
  {
   "cell_type": "code",
<<<<<<< HEAD
   "execution_count": 1,
   "metadata": {},
   "outputs": [
    {
     "name": "stdout",
     "output_type": "stream",
     "text": [
      "C:\\Users\\ASUS\\PROJECT001\\stamp_processing\n"
     ]
    },
    {
     "name": "stderr",
     "output_type": "stream",
     "text": [
      "c:\\Users\\ASUS\\anaconda3_2\\lib\\site-packages\\tqdm\\auto.py:22: TqdmWarning: IProgress not found. Please update jupyter and ipywidgets. See https://ipywidgets.readthedocs.io/en/stable/user_install.html\n",
      "  from .autonotebook import tqdm as notebook_tqdm\n"
     ]
    }
   ],
   "source": [
    "%cd C:/Users/ASUS/PROJECT001/stamp_processing\n",
    "\n",
    "from stamp_processing import StampRemover\n",
    "\n",
=======
   "execution_count": null,
   "metadata": {},
   "outputs": [],
   "source": [
    "%cd C:/Users/ASUS/PROJECT001/stamp_processing\n",
    "# !pip3 install \n",
    "from stamp_processing import StampRemover\n",
    "import pathlib\n",
>>>>>>> 5a1f1c164dcabcd1a47c2c0650436d023df889e5
    "remover = StampRemover(detection_weight=None, removal_weight=r\"C:\\Users\\ASUS\\PROJECT001\\unet_removal_weight.pkl\")"
   ]
  },
  {
   "cell_type": "code",
<<<<<<< HEAD
   "execution_count": 3,
   "metadata": {},
   "outputs": [
    {
     "data": {
      "text/plain": [
       "CustomDynamicUnet(\n",
       "  (layers): ModuleList(\n",
       "    (0): Sequential(\n",
       "      (0): Conv2d(3, 64, kernel_size=(7, 7), stride=(2, 2), padding=(3, 3), bias=False)\n",
       "      (1): BatchNorm2d(64, eps=1e-05, momentum=0.1, affine=True, track_running_stats=True)\n",
       "      (2): ReLU(inplace=True)\n",
       "      (3): MaxPool2d(kernel_size=3, stride=2, padding=1, dilation=1, ceil_mode=False)\n",
       "      (4): Sequential(\n",
       "        (0): BasicBlock(\n",
       "          (conv1): Conv2d(64, 64, kernel_size=(3, 3), stride=(1, 1), padding=(1, 1), bias=False)\n",
       "          (bn1): BatchNorm2d(64, eps=1e-05, momentum=0.1, affine=True, track_running_stats=True)\n",
       "          (relu): ReLU(inplace=True)\n",
       "          (conv2): Conv2d(64, 64, kernel_size=(3, 3), stride=(1, 1), padding=(1, 1), bias=False)\n",
       "          (bn2): BatchNorm2d(64, eps=1e-05, momentum=0.1, affine=True, track_running_stats=True)\n",
       "        )\n",
       "        (1): BasicBlock(\n",
       "          (conv1): Conv2d(64, 64, kernel_size=(3, 3), stride=(1, 1), padding=(1, 1), bias=False)\n",
       "          (bn1): BatchNorm2d(64, eps=1e-05, momentum=0.1, affine=True, track_running_stats=True)\n",
       "          (relu): ReLU(inplace=True)\n",
       "          (conv2): Conv2d(64, 64, kernel_size=(3, 3), stride=(1, 1), padding=(1, 1), bias=False)\n",
       "          (bn2): BatchNorm2d(64, eps=1e-05, momentum=0.1, affine=True, track_running_stats=True)\n",
       "        )\n",
       "      )\n",
       "      (5): Sequential(\n",
       "        (0): BasicBlock(\n",
       "          (conv1): Conv2d(64, 128, kernel_size=(3, 3), stride=(2, 2), padding=(1, 1), bias=False)\n",
       "          (bn1): BatchNorm2d(128, eps=1e-05, momentum=0.1, affine=True, track_running_stats=True)\n",
       "          (relu): ReLU(inplace=True)\n",
       "          (conv2): Conv2d(128, 128, kernel_size=(3, 3), stride=(1, 1), padding=(1, 1), bias=False)\n",
       "          (bn2): BatchNorm2d(128, eps=1e-05, momentum=0.1, affine=True, track_running_stats=True)\n",
       "          (downsample): Sequential(\n",
       "            (0): Conv2d(64, 128, kernel_size=(1, 1), stride=(2, 2), bias=False)\n",
       "            (1): BatchNorm2d(128, eps=1e-05, momentum=0.1, affine=True, track_running_stats=True)\n",
       "          )\n",
       "        )\n",
       "        (1): BasicBlock(\n",
       "          (conv1): Conv2d(128, 128, kernel_size=(3, 3), stride=(1, 1), padding=(1, 1), bias=False)\n",
       "          (bn1): BatchNorm2d(128, eps=1e-05, momentum=0.1, affine=True, track_running_stats=True)\n",
       "          (relu): ReLU(inplace=True)\n",
       "          (conv2): Conv2d(128, 128, kernel_size=(3, 3), stride=(1, 1), padding=(1, 1), bias=False)\n",
       "          (bn2): BatchNorm2d(128, eps=1e-05, momentum=0.1, affine=True, track_running_stats=True)\n",
       "        )\n",
       "      )\n",
       "      (6): Sequential(\n",
       "        (0): BasicBlock(\n",
       "          (conv1): Conv2d(128, 256, kernel_size=(3, 3), stride=(2, 2), padding=(1, 1), bias=False)\n",
       "          (bn1): BatchNorm2d(256, eps=1e-05, momentum=0.1, affine=True, track_running_stats=True)\n",
       "          (relu): ReLU(inplace=True)\n",
       "          (conv2): Conv2d(256, 256, kernel_size=(3, 3), stride=(1, 1), padding=(1, 1), bias=False)\n",
       "          (bn2): BatchNorm2d(256, eps=1e-05, momentum=0.1, affine=True, track_running_stats=True)\n",
       "          (downsample): Sequential(\n",
       "            (0): Conv2d(128, 256, kernel_size=(1, 1), stride=(2, 2), bias=False)\n",
       "            (1): BatchNorm2d(256, eps=1e-05, momentum=0.1, affine=True, track_running_stats=True)\n",
       "          )\n",
       "        )\n",
       "        (1): BasicBlock(\n",
       "          (conv1): Conv2d(256, 256, kernel_size=(3, 3), stride=(1, 1), padding=(1, 1), bias=False)\n",
       "          (bn1): BatchNorm2d(256, eps=1e-05, momentum=0.1, affine=True, track_running_stats=True)\n",
       "          (relu): ReLU(inplace=True)\n",
       "          (conv2): Conv2d(256, 256, kernel_size=(3, 3), stride=(1, 1), padding=(1, 1), bias=False)\n",
       "          (bn2): BatchNorm2d(256, eps=1e-05, momentum=0.1, affine=True, track_running_stats=True)\n",
       "        )\n",
       "      )\n",
       "      (7): Sequential(\n",
       "        (0): BasicBlock(\n",
       "          (conv1): Conv2d(256, 512, kernel_size=(3, 3), stride=(2, 2), padding=(1, 1), bias=False)\n",
       "          (bn1): BatchNorm2d(512, eps=1e-05, momentum=0.1, affine=True, track_running_stats=True)\n",
       "          (relu): ReLU(inplace=True)\n",
       "          (conv2): Conv2d(512, 512, kernel_size=(3, 3), stride=(1, 1), padding=(1, 1), bias=False)\n",
       "          (bn2): BatchNorm2d(512, eps=1e-05, momentum=0.1, affine=True, track_running_stats=True)\n",
       "          (downsample): Sequential(\n",
       "            (0): Conv2d(256, 512, kernel_size=(1, 1), stride=(2, 2), bias=False)\n",
       "            (1): BatchNorm2d(512, eps=1e-05, momentum=0.1, affine=True, track_running_stats=True)\n",
       "          )\n",
       "        )\n",
       "        (1): BasicBlock(\n",
       "          (conv1): Conv2d(512, 512, kernel_size=(3, 3), stride=(1, 1), padding=(1, 1), bias=False)\n",
       "          (bn1): BatchNorm2d(512, eps=1e-05, momentum=0.1, affine=True, track_running_stats=True)\n",
       "          (relu): ReLU(inplace=True)\n",
       "          (conv2): Conv2d(512, 512, kernel_size=(3, 3), stride=(1, 1), padding=(1, 1), bias=False)\n",
       "          (bn2): BatchNorm2d(512, eps=1e-05, momentum=0.1, affine=True, track_running_stats=True)\n",
       "        )\n",
       "      )\n",
       "    )\n",
       "    (1): BatchNorm2d(512, eps=1e-05, momentum=0.1, affine=True, track_running_stats=True)\n",
       "    (2): ReLU()\n",
       "    (3): Sequential(\n",
       "      (0): ConvLayer(\n",
       "        (0): Conv2d(512, 512, kernel_size=(3, 3), stride=(1, 1), padding=(1, 1), bias=False)\n",
       "        (1): BatchNorm2d(512, eps=1e-05, momentum=0.1, affine=True, track_running_stats=True)\n",
       "        (2): ReLU()\n",
       "      )\n",
       "      (1): ConvLayer(\n",
       "        (0): Conv2d(512, 512, kernel_size=(3, 3), stride=(1, 1), padding=(1, 1), bias=False)\n",
       "        (1): BatchNorm2d(512, eps=1e-05, momentum=0.1, affine=True, track_running_stats=True)\n",
       "        (2): ReLU()\n",
       "      )\n",
       "    )\n",
       "    (4): CustomUnetBlock(\n",
       "      (shuf): PixelShuffle_ICNR(\n",
       "        (0): ConvLayer(\n",
       "          (0): Conv2d(512, 1024, kernel_size=(1, 1), stride=(1, 1), bias=False)\n",
       "          (1): BatchNorm2d(1024, eps=1e-05, momentum=0.1, affine=True, track_running_stats=True)\n",
       "          (2): ReLU()\n",
       "        )\n",
       "        (1): PixelShuffle(upscale_factor=2)\n",
       "      )\n",
       "      (bn): BatchNorm2d(256, eps=1e-05, momentum=0.1, affine=True, track_running_stats=True)\n",
       "      (conv1): ConvLayer(\n",
       "        (0): Conv2d(512, 256, kernel_size=(3, 3), stride=(1, 1), padding=(1, 1), bias=False)\n",
       "        (1): BatchNorm2d(256, eps=1e-05, momentum=0.1, affine=True, track_running_stats=True)\n",
       "        (2): ReLU()\n",
       "      )\n",
       "      (conv2): ConvLayer(\n",
       "        (0): Conv2d(256, 256, kernel_size=(3, 3), stride=(1, 1), padding=(1, 1), bias=False)\n",
       "        (1): BatchNorm2d(256, eps=1e-05, momentum=0.1, affine=True, track_running_stats=True)\n",
       "        (2): ReLU()\n",
       "      )\n",
       "      (relu): ReLU()\n",
       "    )\n",
       "    (5): CustomUnetBlock(\n",
       "      (shuf): PixelShuffle_ICNR(\n",
       "        (0): ConvLayer(\n",
       "          (0): Conv2d(256, 512, kernel_size=(1, 1), stride=(1, 1), bias=False)\n",
       "          (1): BatchNorm2d(512, eps=1e-05, momentum=0.1, affine=True, track_running_stats=True)\n",
       "          (2): ReLU()\n",
       "        )\n",
       "        (1): PixelShuffle(upscale_factor=2)\n",
       "      )\n",
       "      (bn): BatchNorm2d(128, eps=1e-05, momentum=0.1, affine=True, track_running_stats=True)\n",
       "      (conv1): ConvLayer(\n",
       "        (0): Conv2d(256, 128, kernel_size=(3, 3), stride=(1, 1), padding=(1, 1), bias=False)\n",
       "        (1): BatchNorm2d(128, eps=1e-05, momentum=0.1, affine=True, track_running_stats=True)\n",
       "        (2): ReLU()\n",
       "      )\n",
       "      (conv2): ConvLayer(\n",
       "        (0): Conv2d(128, 128, kernel_size=(3, 3), stride=(1, 1), padding=(1, 1), bias=False)\n",
       "        (1): BatchNorm2d(128, eps=1e-05, momentum=0.1, affine=True, track_running_stats=True)\n",
       "        (2): ReLU()\n",
       "      )\n",
       "      (relu): ReLU()\n",
       "    )\n",
       "    (6): CustomUnetBlock(\n",
       "      (shuf): PixelShuffle_ICNR(\n",
       "        (0): ConvLayer(\n",
       "          (0): Conv2d(128, 256, kernel_size=(1, 1), stride=(1, 1), bias=False)\n",
       "          (1): BatchNorm2d(256, eps=1e-05, momentum=0.1, affine=True, track_running_stats=True)\n",
       "          (2): ReLU()\n",
       "        )\n",
       "        (1): PixelShuffle(upscale_factor=2)\n",
       "      )\n",
       "      (bn): BatchNorm2d(64, eps=1e-05, momentum=0.1, affine=True, track_running_stats=True)\n",
       "      (conv1): ConvLayer(\n",
       "        (0): Conv2d(128, 64, kernel_size=(3, 3), stride=(1, 1), padding=(1, 1), bias=False)\n",
       "        (1): BatchNorm2d(64, eps=1e-05, momentum=0.1, affine=True, track_running_stats=True)\n",
       "        (2): ReLU()\n",
       "      )\n",
       "      (conv2): ConvLayer(\n",
       "        (0): Conv2d(64, 64, kernel_size=(3, 3), stride=(1, 1), padding=(1, 1), bias=False)\n",
       "        (1): BatchNorm2d(64, eps=1e-05, momentum=0.1, affine=True, track_running_stats=True)\n",
       "        (2): ReLU()\n",
       "      )\n",
       "      (relu): ReLU()\n",
       "    )\n",
       "    (7): CustomUnetBlock(\n",
       "      (shuf): PixelShuffle_ICNR(\n",
       "        (0): ConvLayer(\n",
       "          (0): Conv2d(64, 128, kernel_size=(1, 1), stride=(1, 1), bias=False)\n",
       "          (1): BatchNorm2d(128, eps=1e-05, momentum=0.1, affine=True, track_running_stats=True)\n",
       "          (2): ReLU()\n",
       "        )\n",
       "        (1): PixelShuffle(upscale_factor=2)\n",
       "      )\n",
       "      (bn): BatchNorm2d(64, eps=1e-05, momentum=0.1, affine=True, track_running_stats=True)\n",
       "      (conv1): ConvLayer(\n",
       "        (0): Conv2d(96, 24, kernel_size=(3, 3), stride=(1, 1), padding=(1, 1), bias=False)\n",
       "        (1): BatchNorm2d(24, eps=1e-05, momentum=0.1, affine=True, track_running_stats=True)\n",
       "        (2): ReLU()\n",
       "      )\n",
       "      (conv2): ConvLayer(\n",
       "        (0): Conv2d(24, 24, kernel_size=(3, 3), stride=(1, 1), padding=(1, 1), bias=False)\n",
       "        (1): BatchNorm2d(24, eps=1e-05, momentum=0.1, affine=True, track_running_stats=True)\n",
       "        (2): ReLU()\n",
       "      )\n",
       "      (relu): ReLU()\n",
       "    )\n",
       "    (8): PixelShuffle_ICNR(\n",
       "      (0): ConvLayer(\n",
       "        (0): Conv2d(24, 96, kernel_size=(1, 1), stride=(1, 1), bias=False)\n",
       "        (1): BatchNorm2d(96, eps=1e-05, momentum=0.1, affine=True, track_running_stats=True)\n",
       "        (2): ReLU()\n",
       "      )\n",
       "      (1): PixelShuffle(upscale_factor=2)\n",
       "    )\n",
       "    (9): ResizeToOrig()\n",
       "    (10): MergeLayer()\n",
       "    (11): ResBlock(\n",
       "      (convpath): Sequential(\n",
       "        (0): ConvLayer(\n",
       "          (0): Conv2d(27, 27, kernel_size=(3, 3), stride=(1, 1), padding=(1, 1), bias=False)\n",
       "          (1): BatchNorm2d(27, eps=1e-05, momentum=0.1, affine=True, track_running_stats=True)\n",
       "          (2): ReLU()\n",
       "        )\n",
       "        (1): ConvLayer(\n",
       "          (0): Conv2d(27, 27, kernel_size=(3, 3), stride=(1, 1), padding=(1, 1), bias=False)\n",
       "          (1): BatchNorm2d(27, eps=1e-05, momentum=0.1, affine=True, track_running_stats=True)\n",
       "        )\n",
       "      )\n",
       "      (idpath): Sequential()\n",
       "      (act): ReLU(inplace=True)\n",
       "    )\n",
       "    (12): ConvLayer(\n",
       "      (0): Conv2d(27, 3, kernel_size=(1, 1), stride=(1, 1), bias=False)\n",
       "      (1): BatchNorm2d(3, eps=1e-05, momentum=0.1, affine=True, track_running_stats=True)\n",
       "    )\n",
       "  )\n",
       ")"
      ]
     },
     "execution_count": 3,
     "metadata": {},
     "output_type": "execute_result"
    }
   ],
   "source": [
    "from fastai.vision.all import *\n",
    "\n",
    "unet_model = load_learner(r\"C:\\Users\\ASUS\\PROJECT001\\unet_removal_weight.pkl\").model\n",
    "unet_model"
=======
   "execution_count": null,
   "metadata": {},
   "outputs": [],
   "source": [
    "import cv2\n",
    "import os, glob\n",
    "import time \n",
    "\n",
    "start = time.time()\n",
    "idx = 0\n",
    "for image_path in glob.glob(\"C:/Users/ASUS/PROJECT001/data/test-repo-master/*/*.jpg\"):\n",
    "    preds = remover([cv2.imread(image_path)])[0] \n",
    "    new_img_dir = \"C:/Users/ASUS/PROJECT001/stamp_processing/output\" + \"/\" + image_path.split(\"\\\\\")[-2]\n",
    "    if not os.path.exists(new_img_dir):\n",
    "        os.makedirs(new_img_dir)\n",
    "    cv2.imwrite(str(new_img_dir + \"/\" + image_path.split(\"\\\\\")[-1]), cv2.cvtColor(preds, cv2.COLOR_BGR2RGB))\n",
    "    idx += 1 \n",
    "\n",
    "print(f\"Removing red stamps on {idx} images takes {time.time() - start} secs.\")"
>>>>>>> 5a1f1c164dcabcd1a47c2c0650436d023df889e5
   ]
  },
  {
   "cell_type": "code",
   "execution_count": null,
   "metadata": {},
   "outputs": [],
   "source": [
<<<<<<< HEAD
    "import cv2\n",
    "\n",
    "preds = remover([cv2.imread(\"C:/Users/ASUS/PROJECT001/data/test-repo-master/sec/sec5.jpg\")])\n",
    "\n",
    "def imshow(img, figsize=(25, 25), **kwargs):\n",
    "    import matplotlib.pyplot as plt\n",
    "    fig, ax = plt.subplots(1, 1, figsize=figsize)\n",
    "    ax.axis('off')\n",
    "    ax.imshow(img, **kwargs)\n",
    "\n",
    "imshow(preds[0])"
   ]
  },
  {
   "cell_type": "markdown",
   "metadata": {},
   "source": [
    "## Convert Model to ONNX\n",
    "### Convert FastAi Model to Torch.Jit.Script"
   ]
  },
  {
   "cell_type": "code",
   "execution_count": 70,
   "metadata": {},
   "outputs": [
    {
     "name": "stdout",
     "output_type": "stream",
     "text": [
      "Collecting onnxruntime\n",
      "  Downloading onnxruntime-1.11.1-cp37-cp37m-win_amd64.whl (5.5 MB)\n",
      "Collecting flatbuffers\n",
      "  Downloading flatbuffers-2.0-py2.py3-none-any.whl (26 kB)\n",
      "Requirement already satisfied: numpy>=1.21.6 in c:\\users\\asus\\anaconda3_2\\envs\\stamp_processing\\lib\\site-packages (from onnxruntime) (1.21.6)\n",
      "Requirement already satisfied: protobuf in c:\\users\\asus\\anaconda3_2\\envs\\stamp_processing\\lib\\site-packages (from onnxruntime) (3.20.1)\n",
      "Installing collected packages: flatbuffers, onnxruntime\n",
      "Successfully installed flatbuffers-2.0 onnxruntime-1.11.1\n"
     ]
    }
   ],
   "source": [
    "!pip3 install onnxruntime"
   ]
  },
  {
   "cell_type": "code",
   "execution_count": 77,
   "metadata": {},
   "outputs": [
    {
     "name": "stdout",
     "output_type": "stream",
     "text": [
      "C:\\Users\\ASUS\\PROJECT001\\stamp_processing\n"
     ]
    },
    {
     "name": "stderr",
     "output_type": "stream",
     "text": [
      "c:\\Users\\ASUS\\PROJECT001\\stamp_processing\\stamp_processing\\module\\unet.py:57: TracerWarning: Converting a tensor to a Python boolean might cause the trace to be incorrect. We can't record the data flow of Python values, so this value will be treated as a constant in the future. This means that the trace might not generalize to other inputs!\n",
      "  if ssh != up_out.shape[-2:]:\n",
      "c:\\Users\\ASUS\\anaconda3_2\\envs\\stamp_processing\\lib\\site-packages\\fastai\\vision\\models\\unet.py:47: TracerWarning: Converting a tensor to a Python boolean might cause the trace to be incorrect. We can't record the data flow of Python values, so this value will be treated as a constant in the future. This means that the trace might not generalize to other inputs!\n",
      "  if x.orig.shape[-2:] != x.shape[-2:]:\n",
      "c:\\Users\\ASUS\\anaconda3_2\\envs\\stamp_processing\\lib\\site-packages\\torch\\jit\\_trace.py:152: UserWarning: The .grad attribute of a Tensor that is not a leaf Tensor is being accessed. Its .grad attribute won't be populated during autograd.backward(). If you indeed want the gradient for a non-leaf Tensor, use .retain_grad() on the non-leaf Tensor. If you access the non-leaf Tensor by mistake, make sure you access the leaf Tensor instead. See github.com/pytorch/pytorch/pull/30531 for more informations.\n",
      "  if a.grad is not None:\n"
     ]
    }
   ],
   "source": [
    "%cd C:/Users/ASUS/PROJECT001/stamp_processing\n",
    "\n",
    "import pathlib\n",
    "temp = pathlib.PosixPath\n",
    "pathlib.PosixPath = pathlib.WindowsPath\n",
    "\n",
    "from PIL import Image\n",
    "from fastai.vision.all import *\n",
    "\n",
    "unet_model = load_learner(r\"C:\\Users\\ASUS\\PROJECT001\\unet_removal_weight.pkl\").model.cuda()\n",
    "\n",
    "dummy_input = torch.randn([1,3, 320, 320], requires_grad=True).cuda()\n",
    "\n",
    "torch.jit.save(torch.jit.trace(unet_model, dummy_input), 'RedStampRemover160x480.pt')"
   ]
  },
  {
   "cell_type": "markdown",
   "metadata": {},
   "source": [
    "### Convert Torch.Jit.Script model to ONNX"
   ]
  },
  {
   "cell_type": "code",
   "execution_count": 80,
   "metadata": {},
   "outputs": [
    {
     "name": "stdout",
     "output_type": "stream",
     "text": [
      "C:\\Users\\ASUS\\PROJECT001\\stamp_processing\n",
      "Model has been converted to ONNX\n"
     ]
    }
   ],
   "source": [
    "import torch.onnx\n",
    "%cd C:/Users/ASUS/PROJECT001/stamp_processing\n",
    "\n",
    "from PIL import Image\n",
    "from fastai.vision.all import *\n",
    "\n",
    "# unet_model = load_learner(r\"C:\\Users\\ASUS\\PROJECT001\\stamp_processing\\RedStampRemover.pt\").model\n",
    "unet_model = torch.jit.load(r\"C:\\Users\\ASUS\\PROJECT001\\stamp_processing\\RedStampRemover320x320.pt\").cuda()\n",
    "\n",
    "def Convert_ONNX(model): \n",
    "    unet_model.eval()\n",
    "    \n",
    "    dummy_input = torch.randn([1,3, 320, 320], requires_grad=True).cuda()\n",
    "    dummy_output = unet_model(dummy_input)\n",
    "\n",
    "    torch.onnx.export(model,         # model being run \n",
    "            dummy_input,       # model input (or a tuple for multiple inputs) \n",
    "            \"RedStampRemover320x320.onnx\",       # where to save the model  \n",
    "            export_params=True,  # store the trained parameter weights inside the model file \n",
    "            opset_version=13,    # the ONNX version to export the model to \n",
    "            do_constant_folding=True,  # whether to execute constant folding for optimization \n",
    "            input_names = ['modelInput'],   # the model's input names \n",
    "            output_names = ['modelOutput'], # the model's output names\n",
    "            dynamic_axes= {'modelInput' : {0: \"BS\"},    # variable length axes \n",
    "                        'modelOutput' : {0: \"BS\"}},\n",
    "            example_outputs=dummy_output) \n",
    "\n",
    "    print('Model has been converted to ONNX') \n",
    "\n",
    "Convert_ONNX(unet_model)"
   ]
  },
  {
   "cell_type": "code",
   "execution_count": 12,
   "metadata": {},
   "outputs": [
    {
     "name": "stdout",
     "output_type": "stream",
     "text": [
      "None\n"
     ]
    }
   ],
   "source": [
    "import onnx\n",
    "\n",
    "onnx_model = onnx.load(\"RedStampRemover.onnx\")\n",
    "onnx.checker.check_model(onnx_model)"
   ]
  },
  {
   "cell_type": "markdown",
   "metadata": {},
   "source": [
    "## Inference with one image"
   ]
  },
  {
   "cell_type": "code",
   "execution_count": 13,
   "metadata": {},
   "outputs": [
    {
     "ename": "Fail",
     "evalue": "[ONNXRuntimeError] : 1 : FAIL : Non-zero status code returned while running Concat node. Name:'Concat_56' Status Message: concat.cc:159 onnxruntime::ConcatBase::PrepareForCompute Non concat axis dimensions must match: Axis 3 has mismatched dimensions of 107 and 108",
     "output_type": "error",
     "traceback": [
      "\u001b[1;31m---------------------------------------------------------------------------\u001b[0m",
      "\u001b[1;31mFail\u001b[0m                                      Traceback (most recent call last)",
      "\u001b[1;32m~\\AppData\\Local\\Temp\\ipykernel_7668\\142325251.py\u001b[0m in \u001b[0;36m<module>\u001b[1;34m\u001b[0m\n\u001b[0;32m     25\u001b[0m \u001b[1;31m# compute ONNX Runtime output prediction\u001b[0m\u001b[1;33m\u001b[0m\u001b[1;33m\u001b[0m\u001b[1;33m\u001b[0m\u001b[0m\n\u001b[0;32m     26\u001b[0m \u001b[0mort_inputs\u001b[0m \u001b[1;33m=\u001b[0m \u001b[1;33m{\u001b[0m\u001b[0mort_session\u001b[0m\u001b[1;33m.\u001b[0m\u001b[0mget_inputs\u001b[0m\u001b[1;33m(\u001b[0m\u001b[1;33m)\u001b[0m\u001b[1;33m[\u001b[0m\u001b[1;36m0\u001b[0m\u001b[1;33m]\u001b[0m\u001b[1;33m.\u001b[0m\u001b[0mname\u001b[0m\u001b[1;33m:\u001b[0m \u001b[0mtest_onnx_numpy\u001b[0m\u001b[1;33m}\u001b[0m\u001b[1;33m\u001b[0m\u001b[1;33m\u001b[0m\u001b[0m\n\u001b[1;32m---> 27\u001b[1;33m \u001b[0mort_outs\u001b[0m \u001b[1;33m=\u001b[0m \u001b[0mort_session\u001b[0m\u001b[1;33m.\u001b[0m\u001b[0mrun\u001b[0m\u001b[1;33m(\u001b[0m\u001b[1;33m[\u001b[0m\u001b[0mort_session\u001b[0m\u001b[1;33m.\u001b[0m\u001b[0mget_outputs\u001b[0m\u001b[1;33m(\u001b[0m\u001b[1;33m)\u001b[0m\u001b[1;33m[\u001b[0m\u001b[1;36m0\u001b[0m\u001b[1;33m]\u001b[0m\u001b[1;33m.\u001b[0m\u001b[0mname\u001b[0m\u001b[1;33m]\u001b[0m\u001b[1;33m,\u001b[0m \u001b[0mort_inputs\u001b[0m\u001b[1;33m)\u001b[0m\u001b[1;33m\u001b[0m\u001b[1;33m\u001b[0m\u001b[0m\n\u001b[0m\u001b[0;32m     28\u001b[0m \u001b[1;33m\u001b[0m\u001b[0m\n\u001b[0;32m     29\u001b[0m \u001b[1;32mdef\u001b[0m \u001b[0mdecode_prediction\u001b[0m\u001b[1;33m(\u001b[0m\u001b[0mpreds\u001b[0m\u001b[1;33m)\u001b[0m\u001b[1;33m:\u001b[0m\u001b[1;33m\u001b[0m\u001b[1;33m\u001b[0m\u001b[0m\n",
      "\u001b[1;32m~\\AppData\\Roaming\\Python\\Python37\\site-packages\\onnxruntime\\capi\\onnxruntime_inference_collection.py\u001b[0m in \u001b[0;36mrun\u001b[1;34m(self, output_names, input_feed, run_options)\u001b[0m\n\u001b[0;32m    190\u001b[0m             \u001b[0moutput_names\u001b[0m \u001b[1;33m=\u001b[0m \u001b[1;33m[\u001b[0m\u001b[0moutput\u001b[0m\u001b[1;33m.\u001b[0m\u001b[0mname\u001b[0m \u001b[1;32mfor\u001b[0m \u001b[0moutput\u001b[0m \u001b[1;32min\u001b[0m \u001b[0mself\u001b[0m\u001b[1;33m.\u001b[0m\u001b[0m_outputs_meta\u001b[0m\u001b[1;33m]\u001b[0m\u001b[1;33m\u001b[0m\u001b[1;33m\u001b[0m\u001b[0m\n\u001b[0;32m    191\u001b[0m         \u001b[1;32mtry\u001b[0m\u001b[1;33m:\u001b[0m\u001b[1;33m\u001b[0m\u001b[1;33m\u001b[0m\u001b[0m\n\u001b[1;32m--> 192\u001b[1;33m             \u001b[1;32mreturn\u001b[0m \u001b[0mself\u001b[0m\u001b[1;33m.\u001b[0m\u001b[0m_sess\u001b[0m\u001b[1;33m.\u001b[0m\u001b[0mrun\u001b[0m\u001b[1;33m(\u001b[0m\u001b[0moutput_names\u001b[0m\u001b[1;33m,\u001b[0m \u001b[0minput_feed\u001b[0m\u001b[1;33m,\u001b[0m \u001b[0mrun_options\u001b[0m\u001b[1;33m)\u001b[0m\u001b[1;33m\u001b[0m\u001b[1;33m\u001b[0m\u001b[0m\n\u001b[0m\u001b[0;32m    193\u001b[0m         \u001b[1;32mexcept\u001b[0m \u001b[0mC\u001b[0m\u001b[1;33m.\u001b[0m\u001b[0mEPFail\u001b[0m \u001b[1;32mas\u001b[0m \u001b[0merr\u001b[0m\u001b[1;33m:\u001b[0m\u001b[1;33m\u001b[0m\u001b[1;33m\u001b[0m\u001b[0m\n\u001b[0;32m    194\u001b[0m             \u001b[1;32mif\u001b[0m \u001b[0mself\u001b[0m\u001b[1;33m.\u001b[0m\u001b[0m_enable_fallback\u001b[0m\u001b[1;33m:\u001b[0m\u001b[1;33m\u001b[0m\u001b[1;33m\u001b[0m\u001b[0m\n",
      "\u001b[1;31mFail\u001b[0m: [ONNXRuntimeError] : 1 : FAIL : Non-zero status code returned while running Concat node. Name:'Concat_56' Status Message: concat.cc:159 onnxruntime::ConcatBase::PrepareForCompute Non concat axis dimensions must match: Axis 3 has mismatched dimensions of 107 and 108"
     ]
    }
   ],
   "source": [
    "import onnxruntime\n",
    "import torchvision.transforms as transforms\n",
    "import numpy as np\n",
    "from PIL import Image\n",
    "from fastai.vision.all import *\n",
    "\n",
    "\n",
    "def imshow(img, figsize=(25, 25), **kwargs):\n",
    "    import matplotlib.pyplot as plt\n",
    "    fig, ax = plt.subplots(1, 1, figsize=figsize)\n",
    "    ax.axis('off')\n",
    "    ax.imshow(img, **kwargs)\n",
    "\n",
    "def image_transform_onnx(image) -> np.ndarray:\n",
    "    image = np.array(image)\n",
    "    image = image.transpose(2,0,1).astype(np.float32)\n",
    "    image /= 255\n",
    "    image = image[None,...]\n",
    "    return image\n",
    "    \n",
    "\n",
    "ort_session = onnxruntime.InferenceSession(\"RedStampRemover.onnx\")\n",
    "test_onnx_numpy = image_transform_onnx(Image.open(r\"C:\\Users\\ASUS\\PROJECT001\\stamp_processing\\sec1.jpg\"))\n",
    "\n",
    "# compute ONNX Runtime output prediction\n",
    "ort_inputs = {ort_session.get_inputs()[0].name: test_onnx_numpy}\n",
    "ort_outs = ort_session.run([ort_session.get_outputs()[0].name], ort_inputs)\n",
    "\n",
    "def decode_prediction(preds):\n",
    "    out = []\n",
    "    i2f = IntToFloatTensor()\n",
    "    for pred in preds:\n",
    "        img_np = i2f.decodes(pred.squeeze())\n",
    "        img_np = img_np.transpose(1, 2, 0)\n",
    "        img_np *= 255\n",
    "        img_np = img_np.astype(np.uint8)\n",
    "        out.append(img_np)\n",
    "        del img_np\n",
    "        \n",
    "    return out\n",
    "\n",
    "imshow(decode_prediction(ort_outs[0])[0], figsize=(10, 10))"
   ]
  },
  {
   "cell_type": "markdown",
   "metadata": {},
   "source": [
    "## Inference ONNX model"
   ]
  },
  {
   "cell_type": "code",
   "execution_count": 5,
   "metadata": {},
   "outputs": [
    {
     "name": "stdout",
     "output_type": "stream",
     "text": [
      "C:\\Users\\ASUS\\PROJECT001\\stamp_processing\n"
     ]
    },
    {
     "ename": "IndexError",
     "evalue": "list index out of range",
     "output_type": "error",
     "traceback": [
      "\u001b[1;31m---------------------------------------------------------------------------\u001b[0m",
      "\u001b[1;31mIndexError\u001b[0m                                Traceback (most recent call last)",
      "\u001b[1;32m~\\AppData\\Local\\Temp\\ipykernel_7668\\3733707353.py\u001b[0m in \u001b[0;36m<module>\u001b[1;34m\u001b[0m\n\u001b[0;32m      5\u001b[0m \u001b[1;33m\u001b[0m\u001b[0m\n\u001b[0;32m      6\u001b[0m \u001b[0mremover\u001b[0m \u001b[1;33m=\u001b[0m \u001b[0mStampRemoverONNX\u001b[0m\u001b[1;33m(\u001b[0m\u001b[0mremoval_weight\u001b[0m\u001b[1;33m=\u001b[0m\u001b[1;34mr\"C:\\Users\\ASUS\\PROJECT001\\stamp_processing\\RedStampRemover.onnx\"\u001b[0m\u001b[1;33m)\u001b[0m\u001b[1;33m\u001b[0m\u001b[1;33m\u001b[0m\u001b[0m\n\u001b[1;32m----> 7\u001b[1;33m \u001b[0mpreds\u001b[0m \u001b[1;33m=\u001b[0m \u001b[0mremover\u001b[0m\u001b[1;33m(\u001b[0m\u001b[1;33m[\u001b[0m\u001b[0mcv2\u001b[0m\u001b[1;33m.\u001b[0m\u001b[0mimread\u001b[0m\u001b[1;33m(\u001b[0m\u001b[1;34m\"C:/Users/ASUS/PROJECT001/data/test-repo-master/sec/sec5.jpg\"\u001b[0m\u001b[1;33m)\u001b[0m\u001b[1;33m]\u001b[0m\u001b[1;33m)\u001b[0m\u001b[1;33m\u001b[0m\u001b[1;33m\u001b[0m\u001b[0m\n\u001b[0m",
      "\u001b[1;32mc:\\Users\\ASUS\\PROJECT001\\stamp_processing\\stamp_processing\\remover_onnx.py\u001b[0m in \u001b[0;36m__call__\u001b[1;34m(self, image_list, batch_size)\u001b[0m\n\u001b[0;32m     35\u001b[0m         \u001b[1;32melse\u001b[0m\u001b[1;33m:\u001b[0m\u001b[1;33m\u001b[0m\u001b[1;33m\u001b[0m\u001b[0m\n\u001b[0;32m     36\u001b[0m             \u001b[1;32mreturn\u001b[0m \u001b[1;33m[\u001b[0m\u001b[1;33m]\u001b[0m\u001b[1;33m\u001b[0m\u001b[1;33m\u001b[0m\u001b[0m\n\u001b[1;32m---> 37\u001b[1;33m         \u001b[1;32mreturn\u001b[0m \u001b[0mself\u001b[0m\u001b[1;33m.\u001b[0m\u001b[0m__batch_removing\u001b[0m\u001b[1;33m(\u001b[0m\u001b[0mimage_list\u001b[0m\u001b[1;33m,\u001b[0m \u001b[0mbatch_size\u001b[0m\u001b[1;33m)\u001b[0m  \u001b[1;31m# type:ignore\u001b[0m\u001b[1;33m\u001b[0m\u001b[1;33m\u001b[0m\u001b[0m\n\u001b[0m\u001b[0;32m     38\u001b[0m \u001b[1;33m\u001b[0m\u001b[0m\n\u001b[0;32m     39\u001b[0m \u001b[1;33m\u001b[0m\u001b[0m\n",
      "\u001b[1;32mc:\\Users\\ASUS\\PROJECT001\\stamp_processing\\stamp_processing\\remover_onnx.py\u001b[0m in \u001b[0;36m__batch_removing\u001b[1;34m(self, image_list, batch_size)\u001b[0m\n\u001b[0;32m     70\u001b[0m                     \u001b[0mmax\u001b[0m\u001b[1;33m(\u001b[0m\u001b[0mx_min\u001b[0m \u001b[1;33m-\u001b[0m \u001b[0mself\u001b[0m\u001b[1;33m.\u001b[0m\u001b[0mpadding\u001b[0m\u001b[1;33m,\u001b[0m \u001b[1;36m0\u001b[0m\u001b[1;33m)\u001b[0m \u001b[1;33m:\u001b[0m \u001b[0mmin\u001b[0m\u001b[1;33m(\u001b[0m\u001b[0mx_max\u001b[0m \u001b[1;33m+\u001b[0m \u001b[0mself\u001b[0m\u001b[1;33m.\u001b[0m\u001b[0mpadding\u001b[0m\u001b[1;33m,\u001b[0m \u001b[0mw\u001b[0m\u001b[1;33m)\u001b[0m\u001b[1;33m,\u001b[0m\u001b[1;33m\u001b[0m\u001b[1;33m\u001b[0m\u001b[0m\n\u001b[0;32m     71\u001b[0m                     \u001b[1;33m:\u001b[0m\u001b[1;33m,\u001b[0m\u001b[1;33m\u001b[0m\u001b[1;33m\u001b[0m\u001b[0m\n\u001b[1;32m---> 72\u001b[1;33m                 ] = stamp_area[0]\n\u001b[0m\u001b[0;32m     73\u001b[0m             \u001b[0mnew_pages\u001b[0m\u001b[1;33m.\u001b[0m\u001b[0mappend\u001b[0m\u001b[1;33m(\u001b[0m\u001b[0mpage_img\u001b[0m\u001b[1;33m)\u001b[0m\u001b[1;33m\u001b[0m\u001b[1;33m\u001b[0m\u001b[0m\n\u001b[0;32m     74\u001b[0m \u001b[1;33m\u001b[0m\u001b[0m\n",
      "\u001b[1;31mIndexError\u001b[0m: list index out of range"
     ]
    }
   ],
   "source": [
    "%cd C:/Users/ASUS/PROJECT001/stamp_processing\n",
    "\n",
    "from stamp_processing import StampRemoverONNX\n",
    "import cv2\n",
    "\n",
    "remover = StampRemoverONNX(removal_weight=r\"C:\\Users\\ASUS\\PROJECT001\\stamp_processing\\RedStampRemover.onnx\")\n",
    "preds = remover([cv2.imread(\"C:/Users/ASUS/PROJECT001/data/test-repo-master/sec/sec5.jpg\")])"
=======
    "import torch \n",
    "torch.cuda.is_available()"
>>>>>>> 5a1f1c164dcabcd1a47c2c0650436d023df889e5
   ]
  },
  {
   "cell_type": "code",
   "execution_count": null,
   "metadata": {},
   "outputs": [],
<<<<<<< HEAD
   "source": []
=======
   "source": [
    "# import cv2\n",
    "# import os, glob\n",
    "\n",
    "# def imshow(img, figsize=(25, 25), **kwargs):\n",
    "#     import matplotlib.pyplot as plt\n",
    "#     fig, ax = plt.subplots(1, 1, figsize=figsize)\n",
    "#     ax.axis('off')\n",
    "#     ax.imshow(img, **kwargs)\n",
    "\n",
    "# # input_img = cv2.imread(\"C:/Users/ASUS/PROJECT001/data/test-repo-master/bang_theo_doi_so_du/bang_theo_doi_so_du3.jpg\")\n",
    "# # preds = remover([input_img])\n",
    "# # imshow(preds[0])"
   ]
>>>>>>> 5a1f1c164dcabcd1a47c2c0650436d023df889e5
  }
 ],
 "metadata": {
  "kernelspec": {
<<<<<<< HEAD
   "display_name": "Python 3.7.13 ('stamp_processing')",
=======
   "display_name": "Python 3.9.12 ('base')",
>>>>>>> 5a1f1c164dcabcd1a47c2c0650436d023df889e5
   "language": "python",
   "name": "python3"
  },
  "language_info": {
   "codemirror_mode": {
    "name": "ipython",
    "version": 3
   },
   "file_extension": ".py",
   "mimetype": "text/x-python",
   "name": "python",
   "nbconvert_exporter": "python",
   "pygments_lexer": "ipython3",
<<<<<<< HEAD
   "version": "3.7.13"
=======
   "version": "3.9.12"
>>>>>>> 5a1f1c164dcabcd1a47c2c0650436d023df889e5
  },
  "orig_nbformat": 4,
  "vscode": {
   "interpreter": {
<<<<<<< HEAD
    "hash": "b664f0a5ff258080a34843cf6d8700527a42ecd3a3625b3e66efc22704dac365"
=======
    "hash": "94cf7a3701a8ef12f9f8cf9a6bfcb1a2a3a6a55f4d127193be68d7bcdc80897c"
>>>>>>> 5a1f1c164dcabcd1a47c2c0650436d023df889e5
   }
  }
 },
 "nbformat": 4,
 "nbformat_minor": 2
}
