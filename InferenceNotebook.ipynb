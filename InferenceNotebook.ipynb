{
 "cells": [
  {
   "cell_type": "markdown",
   "metadata": {},
   "source": [
    "## Remove red stamp in image"
   ]
  },
  {
   "cell_type": "code",
   "execution_count": null,
   "metadata": {},
   "outputs": [],
   "source": [
    "def apply_brightness_contrast(input_img, brightness = 255, contrast = 125):\n",
    "    def map(x, in_min, in_max, out_min, out_max):\n",
    "        return int((x-in_min) * (out_max-out_min) / (in_max-in_min) + out_min)\n",
    "\n",
    "    brightness = map(brightness, 0, 510, -255, 255)\n",
    "    contrast = map(contrast, 0, 254, -127, 127)\n",
    "    if brightness != 0:\n",
    "        if brightness > 0:\n",
    "            shadow = brightness\n",
    "            highlight = 255\n",
    "        else:\n",
    "            shadow = 0\n",
    "            highlight = 255 + brightness\n",
    "        alpha_b = (highlight - shadow)/255\n",
    "        gamma_b = shadow\n",
    "        buf = cv2.addWeighted(input_img, alpha_b, input_img, 0, gamma_b)\n",
    "    else:\n",
    "        buf = input_img.copy()\n",
    "    if contrast != 0:\n",
    "        f = float(131 * (contrast + 127)) / (127 * (131 - contrast))\n",
    "        alpha_c = f\n",
    "        gamma_c = 127*(1-f)\n",
    "        buf = cv2.addWeighted(buf, alpha_c, buf, 0, gamma_c)\n",
    "    return buf\n",
    "\n",
    "\n",
    "def qualify_bounding_boxes(bboxes):\n",
    "    result_bboxes = list()\n",
    "    for bbox in bboxes:\n",
    "        if (bbox[0]* bbox[1] < 250):\n",
    "            continue\n",
    "        result_bboxes.append(bbox)\n",
    "    return result_bboxes\n"
   ]
  },
  {
   "cell_type": "code",
   "execution_count": null,
   "metadata": {},
   "outputs": [],
   "source": [
    "import cv2\n",
    "import numpy as np\n",
    "from PIL import ImageEnhance, Image\n",
    "\n",
    "def imshow(img, figsize=(25, 25), **kwargs):\n",
    "    import matplotlib.pyplot as plt\n",
    "    fig, ax = plt.subplots(1, 1, figsize=figsize)\n",
    "    ax.axis('off')\n",
    "    ax.imshow(img, **kwargs)\n",
    "\n",
    "def remove_redstamp(img_path):\n",
    "    img = cv2.imread(img_path)\n",
    "    copied_image = img.copy()\n",
    "\n",
    "    img = apply_brightness_contrast(img, brightness = 255, contrast = 145)\n",
    "    img_hsv = cv2.cvtColor(img, cv2.COLOR_BGR2HSV)\n",
    "\n",
    "    lower_red_mask_1 = np.array([0,25,0], np.uint8)\n",
    "    upper_red_mask_1 = np.array([21,255,255], np.uint8)\n",
    "    mask1 = cv2.inRange(img_hsv, lower_red_mask_1, upper_red_mask_1)\n",
    "\n",
    "    output_mask1 = cv2.bitwise_and(copied_image, copied_image, mask=mask1)\n",
    "\n",
    "    lower_red_mask_2 = np.array([160,25,0])\n",
    "    upper_red_mask_2 = np.array([200,255,255])\n",
    "    mask2 = cv2.inRange(img_hsv, lower_red_mask_2, upper_red_mask_2)\n",
    "\n",
    "    output_mask2 = cv2.bitwise_and(copied_image, copied_image, mask=mask2)\n",
    "\n",
    "    output_mask = cv2.add(output_mask1, output_mask2) \n",
    "    result_image = copied_image - output_mask\n",
    "\n",
    "    _, thresh = cv2.threshold(result_image, 5, 255, cv2.THRESH_BINARY_INV)\n",
    "    opening_thresh = cv2.morphologyEx(thresh, cv2.MORPH_OPEN, cv2.getStructuringElement(cv2.MORPH_RECT,(3, 3)))\n",
    "    opening_thresh_ = cv2.cvtColor(opening_thresh, cv2.COLOR_BGR2GRAY)\n",
    "\n",
    "    contours = cv2.findContours(opening_thresh_, cv2.RETR_EXTERNAL, cv2.CHAIN_APPROX_SIMPLE)\n",
    "    contours = contours[0] if len(contours) == 2 else contours[1]\n",
    "\n",
    "    result_bboxes = list()\n",
    "    \n",
    "    for cntr in contours:\n",
    "        x, y, w, h = cv2.boundingRect(cntr)\n",
    "\n",
    "        if (w*h >= 300):\n",
    "             cv2.rectangle(img,(x,y),(x+w,y+h),(0,255,0),2)\n",
    "\n",
    "    return cv2.cvtColor(img, cv2.COLOR_BGR2RGB)"
   ]
  },
  {
   "cell_type": "code",
   "execution_count": null,
   "metadata": {},
   "outputs": [],
   "source": [
    "res = remove_redstamp(img_path = \"data/test-repo-master/sec/sec13.jpg\")\n",
    "imshow(res)"
   ]
  },
  {
   "cell_type": "markdown",
   "metadata": {},
   "source": [
    "## By Deep learning method"
   ]
  },
  {
   "cell_type": "code",
   "execution_count": null,
   "metadata": {},
   "outputs": [],
   "source": [
    "%cd C:/Users/ASUS/PROJECT001/stamp_processing\n",
    "# !pip3 install \n",
    "from stamp_processing import StampRemover\n",
    "import pathlib\n",
    "remover = StampRemover(detection_weight=None, removal_weight=r\"C:\\Users\\ASUS\\PROJECT001\\unet_removal_weight.pkl\")"
   ]
  },
  {
   "cell_type": "code",
   "execution_count": null,
   "metadata": {},
   "outputs": [],
   "source": [
    "import cv2\n",
    "import os, glob\n",
    "import time \n",
    "\n",
    "start = time.time()\n",
    "idx = 0\n",
    "for image_path in glob.glob(\"C:/Users/ASUS/PROJECT001/data/test-repo-master/*/*.jpg\"):\n",
    "    preds = remover([cv2.imread(image_path)])[0] \n",
    "    new_img_dir = \"C:/Users/ASUS/PROJECT001/stamp_processing/output\" + \"/\" + image_path.split(\"\\\\\")[-2]\n",
    "    if not os.path.exists(new_img_dir):\n",
    "        os.makedirs(new_img_dir)\n",
    "    cv2.imwrite(str(new_img_dir + \"/\" + image_path.split(\"\\\\\")[-1]), cv2.cvtColor(preds, cv2.COLOR_BGR2RGB))\n",
    "    idx += 1 \n",
    "\n",
    "print(f\"Removing red stamps on {idx} images takes {time.time() - start} secs.\")"
   ]
  },
  {
   "cell_type": "code",
   "execution_count": null,
   "metadata": {},
   "outputs": [],
   "source": [
    "import torch \n",
    "torch.cuda.is_available()"
   ]
  },
  {
   "cell_type": "code",
   "execution_count": null,
   "metadata": {},
   "outputs": [],
   "source": [
    "# import cv2\n",
    "# import os, glob\n",
    "\n",
    "# def imshow(img, figsize=(25, 25), **kwargs):\n",
    "#     import matplotlib.pyplot as plt\n",
    "#     fig, ax = plt.subplots(1, 1, figsize=figsize)\n",
    "#     ax.axis('off')\n",
    "#     ax.imshow(img, **kwargs)\n",
    "\n",
    "# # input_img = cv2.imread(\"C:/Users/ASUS/PROJECT001/data/test-repo-master/bang_theo_doi_so_du/bang_theo_doi_so_du3.jpg\")\n",
    "# # preds = remover([input_img])\n",
    "# # imshow(preds[0])"
   ]
  }
 ],
 "metadata": {
  "kernelspec": {
   "display_name": "Python 3.9.12 ('base')",
   "language": "python",
   "name": "python3"
  },
  "language_info": {
   "codemirror_mode": {
    "name": "ipython",
    "version": 3
   },
   "file_extension": ".py",
   "mimetype": "text/x-python",
   "name": "python",
   "nbconvert_exporter": "python",
   "pygments_lexer": "ipython3",
   "version": "3.9.12"
  },
  "orig_nbformat": 4,
  "vscode": {
   "interpreter": {
    "hash": "94cf7a3701a8ef12f9f8cf9a6bfcb1a2a3a6a55f4d127193be68d7bcdc80897c"
   }
  }
 },
 "nbformat": 4,
 "nbformat_minor": 2
}
